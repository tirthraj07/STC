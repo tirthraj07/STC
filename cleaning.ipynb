{
 "cells": [
  {
   "cell_type": "code",
   "execution_count": 19,
   "metadata": {},
   "outputs": [],
   "source": [
    "import pandas as pd"
   ]
  },
  {
   "cell_type": "code",
   "execution_count": 31,
   "metadata": {},
   "outputs": [],
   "source": [
    "dataset = pd.read_csv(\"../dataset/health_data.csv\")"
   ]
  },
  {
   "cell_type": "code",
   "execution_count": 32,
   "metadata": {},
   "outputs": [
    {
     "name": "stdout",
     "output_type": "stream",
     "text": [
      "                  age    gender    height    weight     ap_hi     ap_lo  \\\n",
      "age          1.000000 -0.022811 -0.081515  0.053684  0.020764  0.017647   \n",
      "gender      -0.022811  1.000000  0.499033  0.155406  0.006005  0.015254   \n",
      "height      -0.081515  0.499033  1.000000  0.290968  0.005488  0.006150   \n",
      "weight       0.053684  0.155406  0.290968  1.000000  0.030702  0.043710   \n",
      "ap_hi        0.020764  0.006005  0.005488  0.030702  1.000000  0.016086   \n",
      "ap_lo        0.017647  0.015254  0.006150  0.043710  0.016086  1.000000   \n",
      "cholesterol  0.154424 -0.035821 -0.050226  0.141768  0.023778  0.024019   \n",
      "gluc         0.098703 -0.020491 -0.018595  0.106857  0.011841  0.010806   \n",
      "smoke       -0.047633  0.338135  0.187989  0.067780 -0.000922  0.005186   \n",
      "alco        -0.029723  0.170966  0.094419  0.067113  0.001408  0.010601   \n",
      "active      -0.009927  0.005866 -0.006570 -0.016867 -0.000033  0.004780   \n",
      "cardio       0.238159  0.008109 -0.010821  0.181660  0.054475  0.065719   \n",
      "\n",
      "             cholesterol      gluc     smoke      alco    active    cardio  \n",
      "age             0.154424  0.098703 -0.047633 -0.029723 -0.009927  0.238159  \n",
      "gender         -0.035821 -0.020491  0.338135  0.170966  0.005866  0.008109  \n",
      "height         -0.050226 -0.018595  0.187989  0.094419 -0.006570 -0.010821  \n",
      "weight          0.141768  0.106857  0.067780  0.067113 -0.016867  0.181660  \n",
      "ap_hi           0.023778  0.011841 -0.000922  0.001408 -0.000033  0.054475  \n",
      "ap_lo           0.024019  0.010806  0.005186  0.010601  0.004780  0.065719  \n",
      "cholesterol     1.000000  0.451578  0.010354  0.035760  0.009911  0.221147  \n",
      "gluc            0.451578  1.000000 -0.004756  0.011246 -0.006770  0.089307  \n",
      "smoke           0.010354 -0.004756  1.000000  0.340094  0.025858 -0.015486  \n",
      "alco            0.035760  0.011246  0.340094  1.000000  0.025476 -0.007330  \n",
      "active          0.009911 -0.006770  0.025858  0.025476  1.000000 -0.035653  \n",
      "cardio          0.221147  0.089307 -0.015486 -0.007330 -0.035653  1.000000  \n"
     ]
    }
   ],
   "source": [
    "corr_matrix = dataset.corr()\n",
    "print(corr_matrix)"
   ]
  },
  {
   "cell_type": "code",
   "execution_count": 33,
   "metadata": {},
   "outputs": [],
   "source": [
    "dataset.drop(['gender', 'height', 'ap_hi', 'ap_lo', 'smoke', 'alco', 'active', 'gluc'], axis = 1, inplace=True)"
   ]
  },
  {
   "cell_type": "code",
   "execution_count": 29,
   "metadata": {},
   "outputs": [
    {
     "data": {
      "text/html": [
       "<div>\n",
       "<style scoped>\n",
       "    .dataframe tbody tr th:only-of-type {\n",
       "        vertical-align: middle;\n",
       "    }\n",
       "\n",
       "    .dataframe tbody tr th {\n",
       "        vertical-align: top;\n",
       "    }\n",
       "\n",
       "    .dataframe thead th {\n",
       "        text-align: right;\n",
       "    }\n",
       "</style>\n",
       "<table border=\"1\" class=\"dataframe\">\n",
       "  <thead>\n",
       "    <tr style=\"text-align: right;\">\n",
       "      <th></th>\n",
       "      <th>age</th>\n",
       "      <th>weight</th>\n",
       "      <th>cholesterol</th>\n",
       "      <th>gluc</th>\n",
       "      <th>cardio</th>\n",
       "    </tr>\n",
       "  </thead>\n",
       "  <tbody>\n",
       "    <tr>\n",
       "      <th>0</th>\n",
       "      <td>18393</td>\n",
       "      <td>62.0</td>\n",
       "      <td>0</td>\n",
       "      <td>0</td>\n",
       "      <td>0</td>\n",
       "    </tr>\n",
       "    <tr>\n",
       "      <th>1</th>\n",
       "      <td>20228</td>\n",
       "      <td>85.0</td>\n",
       "      <td>2</td>\n",
       "      <td>0</td>\n",
       "      <td>1</td>\n",
       "    </tr>\n",
       "    <tr>\n",
       "      <th>2</th>\n",
       "      <td>18857</td>\n",
       "      <td>64.0</td>\n",
       "      <td>2</td>\n",
       "      <td>0</td>\n",
       "      <td>1</td>\n",
       "    </tr>\n",
       "    <tr>\n",
       "      <th>3</th>\n",
       "      <td>17623</td>\n",
       "      <td>82.0</td>\n",
       "      <td>0</td>\n",
       "      <td>0</td>\n",
       "      <td>1</td>\n",
       "    </tr>\n",
       "    <tr>\n",
       "      <th>4</th>\n",
       "      <td>17474</td>\n",
       "      <td>56.0</td>\n",
       "      <td>0</td>\n",
       "      <td>0</td>\n",
       "      <td>0</td>\n",
       "    </tr>\n",
       "    <tr>\n",
       "      <th>...</th>\n",
       "      <td>...</td>\n",
       "      <td>...</td>\n",
       "      <td>...</td>\n",
       "      <td>...</td>\n",
       "      <td>...</td>\n",
       "    </tr>\n",
       "    <tr>\n",
       "      <th>69995</th>\n",
       "      <td>19240</td>\n",
       "      <td>76.0</td>\n",
       "      <td>0</td>\n",
       "      <td>0</td>\n",
       "      <td>0</td>\n",
       "    </tr>\n",
       "    <tr>\n",
       "      <th>69996</th>\n",
       "      <td>22601</td>\n",
       "      <td>126.0</td>\n",
       "      <td>1</td>\n",
       "      <td>1</td>\n",
       "      <td>1</td>\n",
       "    </tr>\n",
       "    <tr>\n",
       "      <th>69997</th>\n",
       "      <td>19066</td>\n",
       "      <td>105.0</td>\n",
       "      <td>2</td>\n",
       "      <td>0</td>\n",
       "      <td>1</td>\n",
       "    </tr>\n",
       "    <tr>\n",
       "      <th>69998</th>\n",
       "      <td>22431</td>\n",
       "      <td>72.0</td>\n",
       "      <td>0</td>\n",
       "      <td>1</td>\n",
       "      <td>1</td>\n",
       "    </tr>\n",
       "    <tr>\n",
       "      <th>69999</th>\n",
       "      <td>20540</td>\n",
       "      <td>72.0</td>\n",
       "      <td>1</td>\n",
       "      <td>0</td>\n",
       "      <td>0</td>\n",
       "    </tr>\n",
       "  </tbody>\n",
       "</table>\n",
       "<p>70000 rows × 5 columns</p>\n",
       "</div>"
      ],
      "text/plain": [
       "         age  weight  cholesterol  gluc  cardio\n",
       "0      18393    62.0            0     0       0\n",
       "1      20228    85.0            2     0       1\n",
       "2      18857    64.0            2     0       1\n",
       "3      17623    82.0            0     0       1\n",
       "4      17474    56.0            0     0       0\n",
       "...      ...     ...          ...   ...     ...\n",
       "69995  19240    76.0            0     0       0\n",
       "69996  22601   126.0            1     1       1\n",
       "69997  19066   105.0            2     0       1\n",
       "69998  22431    72.0            0     1       1\n",
       "69999  20540    72.0            1     0       0\n",
       "\n",
       "[70000 rows x 5 columns]"
      ]
     },
     "execution_count": 29,
     "metadata": {},
     "output_type": "execute_result"
    }
   ],
   "source": [
    "dataset"
   ]
  },
  {
   "cell_type": "code",
   "execution_count": 34,
   "metadata": {},
   "outputs": [],
   "source": [
    "dataset.shape\n",
    "dataset.to_csv(\"feature_engg_dataset.csv\", index = False)"
   ]
  }
 ],
 "metadata": {
  "kernelspec": {
   "display_name": "Python 3",
   "language": "python",
   "name": "python3"
  },
  "language_info": {
   "codemirror_mode": {
    "name": "ipython",
    "version": 3
   },
   "file_extension": ".py",
   "mimetype": "text/x-python",
   "name": "python",
   "nbconvert_exporter": "python",
   "pygments_lexer": "ipython3",
   "version": "3.11.1"
  }
 },
 "nbformat": 4,
 "nbformat_minor": 2
}
